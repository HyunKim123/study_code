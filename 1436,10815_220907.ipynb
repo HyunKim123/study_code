{
 "cells": [
  {
   "cell_type": "code",
   "execution_count": 1,
   "metadata": {},
   "outputs": [],
   "source": [
    "count=5\n",
    "list=[1,3,8,-2,2]\n",
    "\n",
    "def average(list):\n",
    "    whole=0\n",
    "    for i in range(0, len(list)):\n",
    "        whole+=list[i]\n",
    "        ave=whole/len(list)\n",
    "    return round(ave)\n",
    "\n",
    "def middle(list):\n",
    "    curr=list[0]\n",
    "    for i in range(1, len(list)):\n",
    "        if curr>list[i]:\n",
    "            for k in range(0,len(list)-i):\n",
    "                if curr<list[i]:\n",
    "                    break\n",
    "                temp=list[i]\n",
    "                list[i-1]=temp\n",
    "                list[i]=curr\n",
    "                \n",
    "        else:\n",
    "            break\n",
    "            \n",
    "        curr=list[i]\n",
    "    mid=list[round(len(list)/2)+1]\n",
    "    print(list)\n",
    "    return mid\n",
    "\n",
    "def mostt(list):\n",
    "    numbers={}\n",
    "    for i in range(0, len(list)):\n",
    "        if list[i] not in numbers:\n",
    "            dict[list[i]] = 1\n",
    "        else:\n",
    "            dict[list[i]]= dict[list[i]]+1\n",
    "    pick = max( numbers.values() )\n",
    "    return [k for k, v in numbers.items() if v == pick]"
   ]
  },
  {
   "cell_type": "code",
   "execution_count": 2,
   "metadata": {},
   "outputs": [],
   "source": [
    "sg=5\n",
    "sg_list=[6 ,3, 2, 10, -10]\n",
    "test=8\n",
    "test_list=[10, 9, -5, 2, 3, 4, 5, -10]\n",
    "\n",
    "outcome=[]\n",
    "for i in range(0,test):\n",
    "    if test_list[i] in sg_list:\n",
    "        outcome.append(1)\n",
    "    else:\n",
    "        outcome.append(0)"
   ]
  },
  {
   "cell_type": "code",
   "execution_count": null,
   "metadata": {},
   "outputs": [],
   "source": []
  }
 ],
 "metadata": {
  "kernelspec": {
   "display_name": "Python 3",
   "language": "python",
   "name": "python3"
  },
  "language_info": {
   "codemirror_mode": {
    "name": "ipython",
    "version": 3
   },
   "file_extension": ".py",
   "mimetype": "text/x-python",
   "name": "python",
   "nbconvert_exporter": "python",
   "pygments_lexer": "ipython3",
   "version": "3.8.5"
  }
 },
 "nbformat": 4,
 "nbformat_minor": 4
}
