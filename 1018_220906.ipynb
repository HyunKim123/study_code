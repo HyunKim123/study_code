{
 "cells": [
  {
   "cell_type": "code",
   "execution_count": null,
   "metadata": {},
   "outputs": [],
   "source": [
    "row=10\n",
    "column=13\n",
    "board=['BBBBBBBBWBWBW',\n",
    "'BBBBBBBBBWBWB',\n",
    "'BBBBBBBBWBWBW',\n",
    "'BBBBBBBBBWBWB',\n",
    "'BBBBBBBBWBWBW',\n",
    "'BBBBBBBBBWBWB',\n",
    "'BBBBBBBBWBWBW',\n",
    "'BBBBBBBBBWBWB',\n",
    "'WWWWWWWWWWBWB',\n",
    "'WWWWWWWWWWBWB']\n",
    "wf='WBWBWBWB'\n",
    "bf='BWBWBWBW'\n",
    "stack_list=[]\n",
    "\n",
    "for r in range(0,row-7):\n",
    "    for c in range(0,column-7):\n",
    "\n",
    "        current=''\n",
    "        stack=0\n",
    "        wf_stack=0\n",
    "        bf_stack=0\n",
    "        #wf case\n",
    "        current=wf\n",
    "        for i in range(0,8):\n",
    "            if current==wf: #wf ,bf 번갈아가면서 각 행 테스트\n",
    "                current=bf\n",
    "            else:\n",
    "                current=wf\n",
    "            for j in range(0,8):\n",
    "                if current[j] != board[i+r][j+c]:\n",
    "                    wf_stack +=1\n",
    "        #bf_case\n",
    "        current=bf\n",
    "        for i in range(0,8):\n",
    "            if current==bf: #wf ,bf 번갈아가면서 각 행 테스트\n",
    "                current=wf\n",
    "            else:\n",
    "                current=bf\n",
    "            for j in range(0,8):\n",
    "                if current[j] != board[i+r][j+c]:\n",
    "                    bf_stack +=1\n",
    "        stack=min(wf_stack,bf_stack)\n",
    "        stack_list.append(stack)\n",
    "print(stack_list)\n",
    "print('minimun:' ,min(stack_list) )\n"
   ]
  }
 ],
 "metadata": {
  "kernelspec": {
   "display_name": "Python 3",
   "language": "python",
   "name": "python3"
  },
  "language_info": {
   "codemirror_mode": {
    "name": "ipython",
    "version": 3
   },
   "file_extension": ".py",
   "mimetype": "text/x-python",
   "name": "python",
   "nbconvert_exporter": "python",
   "pygments_lexer": "ipython3",
   "version": "3.8.5"
  }
 },
 "nbformat": 4,
 "nbformat_minor": 4
}
