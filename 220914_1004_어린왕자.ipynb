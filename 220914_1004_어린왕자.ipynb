{
 "cells": [
  {
   "cell_type": "code",
   "execution_count": 5,
   "metadata": {},
   "outputs": [
    {
     "data": {
      "text/plain": [
       "3"
      ]
     },
     "execution_count": 5,
     "metadata": {},
     "output_type": "execute_result"
    }
   ],
   "source": [
    "start=[-5,1]\n",
    "end=[12,1]\n",
    "\n",
    "col=[[1,1,8],\n",
    "    [-3,-1,1],\n",
    "    [2,2,2],\n",
    "    [5,5,1],\n",
    "    [-4,5,1],\n",
    "    [12,1,1],\n",
    "    [12,1,2]]\n",
    "\n",
    "def galaxy(start,end,col):\n",
    "\n",
    "    count=0\n",
    "\n",
    "    for i in range(0,len(col)):\n",
    "\n",
    "        stoc_ins=((start[0]-col[i][0])**2 + (start[1]-col[i][1])**2 ) **(1/2)\n",
    "        if col[i][2]>stoc_ins: #시작점이 행성계 안에 있다면?\n",
    "            count+=1\n",
    "        etoc_ins=((end[0]-col[i][0])**2 + (end[1]-col[i][1])**2 ) **(1/2)\n",
    "        if col[i][2]>etoc_ins: #도착점이 행성계 안에 있다면?\n",
    "            count+=1\n",
    "    return count\n",
    "galaxy(start,end,col)"
   ]
  },
  {
   "cell_type": "code",
   "execution_count": 8,
   "metadata": {},
   "outputs": [
    {
     "data": {
      "text/plain": [
       "0"
      ]
     },
     "execution_count": 8,
     "metadata": {},
     "output_type": "execute_result"
    }
   ],
   "source": [
    "start=[-5,1]\n",
    "end=[5,1]\n",
    "col=[[0,0,2]]\n",
    "galaxy(start,end,col)"
   ]
  },
  {
   "cell_type": "code",
   "execution_count": 9,
   "metadata": {},
   "outputs": [
    {
     "data": {
      "text/plain": [
       "2"
      ]
     },
     "execution_count": 9,
     "metadata": {},
     "output_type": "execute_result"
    }
   ],
   "source": [
    "start=[-5,1]\n",
    "end=[5,1]\n",
    "col=[[0,0,2],\n",
    "    [-6,1,2],\n",
    "    [6,2,2]]\n",
    "galaxy(start,end,col)"
   ]
  },
  {
   "cell_type": "code",
   "execution_count": 10,
   "metadata": {},
   "outputs": [
    {
     "data": {
      "text/plain": [
       "5"
      ]
     },
     "execution_count": 10,
     "metadata": {},
     "output_type": "execute_result"
    }
   ],
   "source": [
    "start=[2,3]\n",
    "end=[13,2]\n",
    "col=[[-3,-1,1],\n",
    "    [2,2,3],\n",
    "    [2,3,1],\n",
    "    [0,1,7],\n",
    "    [-4,5,1],\n",
    "    [12,1,1],\n",
    "    [12,1,2],\n",
    "    [12,1,3]]\n",
    "galaxy(start,end,col)"
   ]
  },
  {
   "cell_type": "code",
   "execution_count": null,
   "metadata": {},
   "outputs": [],
   "source": []
  }
 ],
 "metadata": {
  "kernelspec": {
   "display_name": "Python 3",
   "language": "python",
   "name": "python3"
  },
  "language_info": {
   "codemirror_mode": {
    "name": "ipython",
    "version": 3
   },
   "file_extension": ".py",
   "mimetype": "text/x-python",
   "name": "python",
   "nbconvert_exporter": "python",
   "pygments_lexer": "ipython3",
   "version": "3.8.5"
  }
 },
 "nbformat": 4,
 "nbformat_minor": 4
}
