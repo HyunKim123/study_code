{
 "cells": [
  {
   "cell_type": "code",
   "execution_count": 1,
   "metadata": {},
   "outputs": [
    {
     "name": "stdout",
     "output_type": "stream",
     "text": [
      "[2, 3, 1, 4, 5]\n"
     ]
    }
   ],
   "source": [
    "a=[[55, 185],\n",
    "[58 ,183],\n",
    "[88 ,186],\n",
    "[60 ,175],\n",
    "[46 ,155]]\n",
    "\n",
    "output=[]\n",
    "w_list=[]\n",
    "h_list=[]\n",
    "rank_list=[]\n",
    "a_len=len(a)\n",
    "weight=0\n",
    "height=0\n",
    "for w in range(0,a_len):\n",
    "    w_list.append(a[w][0])\n",
    "    h_list.append(a[w][1])\n",
    "#print(w_list)\n",
    "\n",
    "for i in range(0,a_len):\n",
    "    weignt=a[i][0]\n",
    "    height=a[i][1]\n",
    "    rank=1\n",
    "    for t in range(0,len(w_list) ):\n",
    "        if ( (weight<w_list[t]) and (height<h_list[t]) ):\n",
    "            rank+=1\n",
    "    rank_list.append(rank)\n",
    "\n",
    "print(rank_list)\n",
    "        \n",
    "        "
   ]
  },
  {
   "cell_type": "code",
   "execution_count": null,
   "metadata": {},
   "outputs": [],
   "source": []
  }
 ],
 "metadata": {
  "kernelspec": {
   "display_name": "Python 3",
   "language": "python",
   "name": "python3"
  },
  "language_info": {
   "codemirror_mode": {
    "name": "ipython",
    "version": 3
   },
   "file_extension": ".py",
   "mimetype": "text/x-python",
   "name": "python",
   "nbconvert_exporter": "python",
   "pygments_lexer": "ipython3",
   "version": "3.8.5"
  }
 },
 "nbformat": 4,
 "nbformat_minor": 4
}
