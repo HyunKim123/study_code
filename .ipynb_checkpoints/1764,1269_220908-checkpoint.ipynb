{
 "cells": [
  {
   "cell_type": "code",
   "execution_count": 1,
   "metadata": {},
   "outputs": [
    {
     "name": "stdout",
     "output_type": "stream",
     "text": [
      "2\n",
      "['ohhenrie', 'baesangwook']\n"
     ]
    }
   ],
   "source": [
    "a=3\n",
    "b=4\n",
    "names=['ohhenrie',\n",
    "      'charlie',\n",
    "      'baesangwook',\n",
    "      'obama',\n",
    "      'baesangwook',\n",
    "      'ohhenrie',\n",
    "      'clinton']\n",
    "\n",
    "stack=0\n",
    "ab_list=[]\n",
    "for i in range(0,a):\n",
    "    test=names[i]\n",
    "    for j in range(a,a+b):\n",
    "        if test==names[j]:\n",
    "            stack+=1\n",
    "            ab_list.append(names[i])\n",
    "print(stack)\n",
    "print(ab_list)\n",
    "    "
   ]
  },
  {
   "cell_type": "code",
   "execution_count": 2,
   "metadata": {},
   "outputs": [
    {
     "name": "stdout",
     "output_type": "stream",
     "text": [
      "[1] [3, 5, 6]\n",
      "4\n"
     ]
    }
   ],
   "source": [
    "a=[1,2,4]\n",
    "b=[2,3,4,5,6]\n",
    "\n",
    "a_minus=[]\n",
    "b_minus=[]\n",
    "for i in range(0,len(a)):\n",
    "    if a[i] not in b:\n",
    "        a_minus.append(a[i])\n",
    "        \n",
    "for j in range(0,len(b)):\n",
    "    if b[j] not in a:\n",
    "        b_minus.append(b[j])\n",
    "print(a_minus,b_minus)\n",
    "print(len(a_minus)+len(b_minus))"
   ]
  },
  {
   "cell_type": "code",
   "execution_count": null,
   "metadata": {},
   "outputs": [],
   "source": []
  }
 ],
 "metadata": {
  "kernelspec": {
   "display_name": "Python 3",
   "language": "python",
   "name": "python3"
  },
  "language_info": {
   "codemirror_mode": {
    "name": "ipython",
    "version": 3
   },
   "file_extension": ".py",
   "mimetype": "text/x-python",
   "name": "python",
   "nbconvert_exporter": "python",
   "pygments_lexer": "ipython3",
   "version": "3.8.5"
  }
 },
 "nbformat": 4,
 "nbformat_minor": 4
}
