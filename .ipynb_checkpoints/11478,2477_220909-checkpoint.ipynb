{
 "cells": [
  {
   "cell_type": "code",
   "execution_count": 1,
   "metadata": {},
   "outputs": [
    {
     "name": "stdout",
     "output_type": "stream",
     "text": [
      "['a', 'ab', 'aba', 'abab', 'ababc', 'b', 'ba', 'bab', 'babc', 'abc', 'bc', 'c']\n",
      "12\n"
     ]
    }
   ],
   "source": [
    "string='ababc'\n",
    "sub=[]\n",
    "for i in range(0,len(string)):\n",
    "    for j in range(1,len(string)+1):\n",
    "        if string[i:i+j] not in sub:\n",
    "            sub.append(string[i:i+j])\n",
    "\n",
    "print(sub)\n",
    "print(len(sub))"
   ]
  },
  {
   "cell_type": "code",
   "execution_count": 2,
   "metadata": {},
   "outputs": [
    {
     "name": "stdout",
     "output_type": "stream",
     "text": [
      "47600\n"
     ]
    }
   ],
   "source": [
    "num=7\n",
    "a=[4,2,3,1,3,1]\n",
    "b=[50,160,30,60,20,100]\n",
    "\n",
    "max_m=max(b)\n",
    "whole=0\n",
    "sub_a=0\n",
    "out=0\n",
    "for i in range(0,6):\n",
    "    if b[i] == max_m: #전체넓이 구하기\n",
    "        row=b[i]\n",
    "        column=b[i-1]\n",
    "        whole=row*column\n",
    "    try:\n",
    "        if a[i] == a[i+2]:\n",
    "            sub_a=b[i]*b[i+1]\n",
    "    except:\n",
    "        continue\n",
    "out=whole-sub_a\n",
    "print(out*num)"
   ]
  },
  {
   "cell_type": "code",
   "execution_count": null,
   "metadata": {},
   "outputs": [],
   "source": []
  }
 ],
 "metadata": {
  "kernelspec": {
   "display_name": "Python 3",
   "language": "python",
   "name": "python3"
  },
  "language_info": {
   "codemirror_mode": {
    "name": "ipython",
    "version": 3
   },
   "file_extension": ".py",
   "mimetype": "text/x-python",
   "name": "python",
   "nbconvert_exporter": "python",
   "pygments_lexer": "ipython3",
   "version": "3.8.5"
  }
 },
 "nbformat": 4,
 "nbformat_minor": 4
}
