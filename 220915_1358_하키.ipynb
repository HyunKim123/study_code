{
 "cells": [
  {
   "cell_type": "code",
   "execution_count": 41,
   "metadata": {},
   "outputs": [],
   "source": [
    "lisst=[20,10,5,0,3]\n",
    "w=lisst[0]\n",
    "h=lisst[1]\n",
    "x=lisst[2]\n",
    "y=lisst[3]\n",
    "p=lisst[4]\n",
    "col=[[15,5],\n",
    "    [1,5],\n",
    "    [1,1]]\n"
   ]
  },
  {
   "cell_type": "code",
   "execution_count": 42,
   "metadata": {},
   "outputs": [],
   "source": [
    "def howmany(lisst,col):\n",
    "    w=lisst[0]\n",
    "    h=lisst[1]\n",
    "    x=lisst[2]\n",
    "    y=lisst[3]\n",
    "    p=lisst[4]\n",
    "    count=0\n",
    "    for i in range(0,p):\n",
    "        if (col[i][0]>=x) and (col[i][0]<=x+w) and ( col[i][1]>=y )and (col[i][1]<=y+h):\n",
    "            count+=1\n",
    "            print(i)\n",
    "        elif ( ( (col[i][0]-x)**2 + (col[i][1]-(y+h/2) )**2 )**(1/2) <= (h/2) ):\n",
    "            count+=1\n",
    "            print(i)\n",
    "        elif ( ( (col[i][0]-(x+w) )**2 + (col[i][1]-(y+h/2) )**2 )**(1/2) <= (h/2) ):\n",
    "            count+=1\n",
    "            print(i)\n",
    "    return count"
   ]
  },
  {
   "cell_type": "code",
   "execution_count": 43,
   "metadata": {},
   "outputs": [
    {
     "name": "stdout",
     "output_type": "stream",
     "text": [
      "0\n",
      "1\n"
     ]
    },
    {
     "data": {
      "text/plain": [
       "2"
      ]
     },
     "execution_count": 43,
     "metadata": {},
     "output_type": "execute_result"
    }
   ],
   "source": [
    "howmany(lisst,col)"
   ]
  },
  {
   "cell_type": "code",
   "execution_count": 44,
   "metadata": {},
   "outputs": [
    {
     "name": "stdout",
     "output_type": "stream",
     "text": [
      "0\n",
      "1\n",
      "2\n",
      "3\n",
      "4\n",
      "5\n",
      "6\n",
      "7\n",
      "8\n",
      "9\n",
      "10\n",
      "11\n",
      "12\n",
      "13\n"
     ]
    },
    {
     "data": {
      "text/plain": [
       "14"
      ]
     },
     "execution_count": 44,
     "metadata": {},
     "output_type": "execute_result"
    }
   ],
   "source": [
    "lisst=[20,10,0,0,14]\n",
    "col=[[-5,5],\n",
    "    [-4,2],\n",
    "    [-4,8],\n",
    "    [-3,1],\n",
    "    [-3,9],\n",
    "    [0,0],\n",
    "    [0,10],\n",
    "    [20,0],\n",
    "    [20,10],\n",
    "    [23,1],\n",
    "    [23,9],\n",
    "    [24,2],\n",
    "    [24,8],\n",
    "    [25,5]]\n",
    "howmany(lisst,col)\n"
   ]
  },
  {
   "cell_type": "code",
   "execution_count": 45,
   "metadata": {},
   "outputs": [
    {
     "name": "stdout",
     "output_type": "stream",
     "text": [
      "0\n",
      "1\n",
      "2\n",
      "5\n",
      "6\n",
      "7\n"
     ]
    },
    {
     "data": {
      "text/plain": [
       "6"
      ]
     },
     "execution_count": 45,
     "metadata": {},
     "output_type": "execute_result"
    }
   ],
   "source": [
    "lisst=[24,100,-62,71,8]\n",
    "col=[[-63,109],\n",
    "    [-26,164],\n",
    "    [-9,91],\n",
    "    [-113,80],\n",
    "    [-124,75],\n",
    "    [-95,140],\n",
    "    [-89,116],\n",
    "    [-55,113]]\n",
    "howmany(lisst,col)"
   ]
  },
  {
   "cell_type": "code",
   "execution_count": null,
   "metadata": {},
   "outputs": [],
   "source": []
  }
 ],
 "metadata": {
  "kernelspec": {
   "display_name": "Python 3",
   "language": "python",
   "name": "python3"
  },
  "language_info": {
   "codemirror_mode": {
    "name": "ipython",
    "version": 3
   },
   "file_extension": ".py",
   "mimetype": "text/x-python",
   "name": "python",
   "nbconvert_exporter": "python",
   "pygments_lexer": "ipython3",
   "version": "3.8.5"
  }
 },
 "nbformat": 4,
 "nbformat_minor": 4
}
